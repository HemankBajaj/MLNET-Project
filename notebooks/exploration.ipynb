{
 "cells": [
  {
   "cell_type": "code",
   "execution_count": 24,
   "metadata": {},
   "outputs": [
    {
     "name": "stdout",
     "output_type": "stream",
     "text": [
      "Requirement already satisfied: dpkt in /home/hemankbajaj/miniconda3/lib/python3.9/site-packages (1.9.8)\n"
     ]
    }
   ],
   "source": [
    "!pip install dpkt\n",
    "import dpkt      \n",
    "from scapy.all import *\n",
    "import pandas as pd           \n",
    "import numpy as np             \n",
    "import binascii                 \n",
    "import seaborn as sns          \n",
    "import os\n"
   ]
  },
  {
   "cell_type": "code",
   "execution_count": 25,
   "metadata": {},
   "outputs": [],
   "source": [
    "def readPCAP(directory):    \n",
    "    def list_pcap_files(folder):\n",
    "        pcap_files = []\n",
    "        for root, dirs, files in os.walk(folder):\n",
    "            for file in files:\n",
    "                if file.endswith(\".pcap.gz\"):\n",
    "                    pcap_files.append(os.path.join(root, file))\n",
    "        return pcap_files\n",
    "\n",
    "    return list_pcap_files(directory)\n",
    "    \n",
    "        \n",
    "    "
   ]
  },
  {
   "cell_type": "code",
   "execution_count": 26,
   "metadata": {},
   "outputs": [],
   "source": [
    "listPCAP = readPCAP(\"../sample_data/20240301T000205.745148Z-pcap-mlab2-gru02-ndt/\")"
   ]
  },
  {
   "cell_type": "code",
   "execution_count": 27,
   "metadata": {},
   "outputs": [],
   "source": [
    "samplePCAP = listPCAP[0]"
   ]
  },
  {
   "cell_type": "code",
   "execution_count": 28,
   "metadata": {},
   "outputs": [],
   "source": [
    "pcap = rdpcap(samplePCAP)"
   ]
  },
  {
   "cell_type": "code",
   "execution_count": null,
   "metadata": {},
   "outputs": [],
   "source": []
  },
  {
   "cell_type": "code",
   "execution_count": 29,
   "metadata": {},
   "outputs": [],
   "source": [
    "# Define lists for IP, TCP, and UDP fields\n",
    "ip_fields = ['src_ip', 'dst_ip', 'len', 'proto']\n",
    "tcp_fields = ['sport', 'dport', 'seq', 'ack', 'off', 'flags', 'win', 'sum', 'urp', 'opts', \"ulen\"]\n",
    "udp_fields = ['sport', 'dport', 'ulen', 'sum']\n",
    "\n",
    "# Function to extract IPv4 fields from data\n",
    "def get_ip4_fields(data):\n",
    "    src = socket.inet_ntoa(data.src)\n",
    "    dst = socket.inet_ntoa(data.dst)\n",
    "    plen = data.len\n",
    "    proto = data.p\n",
    "    return [src, dst, plen, proto]\n",
    "\n",
    "# Function to extract IPv6 fields from data\n",
    "def get_ip6_fields(data):\n",
    "    src = socket.inet_ntop(socket.AF_INET6, data.src)\n",
    "    dst = socket.inet_ntop(socket.AF_INET6, data.dst)\n",
    "    plen = data.plen\n",
    "    proto = data.p\n",
    "    return [src, dst, plen, proto]\n",
    "\n",
    "# Function to extract TCP fields\n",
    "def get_tcp_fields(tcp):\n",
    "    fields = []\n",
    "    for field in tcp_fields:\n",
    "        if field == \"ulen\":\n",
    "            fields.append(len(tcp.data))\n",
    "        else:\n",
    "            fields.append(getattr(tcp, field))\n",
    "    return fields\n",
    "\n",
    "# Function to extract UDP fields\n",
    "def get_udp_fields(udp):\n",
    "    fields = []\n",
    "    for field in udp_fields:\n",
    "        fields.append(getattr(udp, field))\n",
    "    return fields\n",
    "\n",
    "# Function to convert pcap file to DataFrame\n",
    "def pcap_to_df(file_path):\n",
    "    # Open the pcap file\n",
    "    f = open(file_path, 'rb')\n",
    "    # Create a pcap reader\n",
    "    pcap = dpkt.pcap.Reader(f)\n",
    "    # List to store extracted fields\n",
    "    fields_list = []\n",
    "    # Iterate through each packet in the pcap file\n",
    "    for ts, buf in pcap:\n",
    "        \n",
    "        fields = [ts]\n",
    "        # Parse the Ethernet frame\n",
    "        eth = dpkt.ethernet.Ethernet(buf)\n",
    "        # Get the IP packet\n",
    "        ip = eth.data\n",
    "        ip_type = \"ipv4\"\n",
    "        \n",
    "        \n",
    "        # Check if it is an IPv4 or IPv6 packet\n",
    "        if isinstance(ip, dpkt.ip.IP):\n",
    "            fields += get_ip4_fields(ip)\n",
    "        elif isinstance(ip, dpkt.ip6.IP6):\n",
    "            fields += get_ip6_fields(ip)\n",
    "            ip_type = \"ipv6\"\n",
    "        else:\n",
    "            continue\n",
    "            \n",
    "        # Create dummy lists for TCP and UDP fields\n",
    "        dummy_tcp_fields = [None for x in tcp_fields]\n",
    "        dummy_udp_fields = [None for x in udp_fields]\n",
    "        # Check the transport protocol and extract fields accordingly\n",
    "        if fields[-1] == 17:  # UDP\n",
    "            transport_fields = get_udp_fields(ip.data) + dummy_tcp_fields\n",
    "        elif fields[-1] == 6:  # TCP\n",
    "            transport_fields = dummy_udp_fields + get_tcp_fields(ip.data)\n",
    "        else:\n",
    "            continue\n",
    "        \n",
    "        # Combine IP, UDP, and TCP fields\n",
    "        fields += transport_fields\n",
    "        fields_list.append(fields)\n",
    "    \n",
    "    udp_fields_name = [f\"udp_{x}\" for x in udp_fields]\n",
    "    tcp_fields_name = [f\"tcp_{x}\" for x in tcp_fields]\n",
    "    field_names = ['ts'] + ip_fields + udp_fields_name + tcp_fields_name\n",
    "    # Create a DataFrame from the list of fields\n",
    "    df = pd.DataFrame(fields_list, columns=field_names)\n",
    "    return df\n"
   ]
  },
  {
   "cell_type": "code",
   "execution_count": 30,
   "metadata": {},
   "outputs": [],
   "source": [
    "file_path = \"../sample_data/20240301T000205.745148Z-pcap-mlab2-gru02-ndt/\""
   ]
  },
  {
   "cell_type": "code",
   "execution_count": 31,
   "metadata": {},
   "outputs": [
    {
     "ename": "ValueError",
     "evalue": "invalid tcpdump header",
     "output_type": "error",
     "traceback": [
      "\u001b[0;31m---------------------------------------------------------------------------\u001b[0m",
      "\u001b[0;31mValueError\u001b[0m                                Traceback (most recent call last)",
      "Cell \u001b[0;32mIn [31], line 1\u001b[0m\n\u001b[0;32m----> 1\u001b[0m pcap_to_df(samplePCAP)\n",
      "Cell \u001b[0;32mIn [29], line 44\u001b[0m, in \u001b[0;36mpcap_to_df\u001b[0;34m(file_path)\u001b[0m\n\u001b[1;32m     42\u001b[0m f \u001b[38;5;241m=\u001b[39m \u001b[38;5;28mopen\u001b[39m(file_path, \u001b[38;5;124m'\u001b[39m\u001b[38;5;124mrb\u001b[39m\u001b[38;5;124m'\u001b[39m)\n\u001b[1;32m     43\u001b[0m \u001b[38;5;66;03m# Create a pcap reader\u001b[39;00m\n\u001b[0;32m---> 44\u001b[0m pcap \u001b[38;5;241m=\u001b[39m \u001b[43mdpkt\u001b[49m\u001b[38;5;241;43m.\u001b[39;49m\u001b[43mpcap\u001b[49m\u001b[38;5;241;43m.\u001b[39;49m\u001b[43mReader\u001b[49m\u001b[43m(\u001b[49m\u001b[43mf\u001b[49m\u001b[43m)\u001b[49m\n\u001b[1;32m     45\u001b[0m \u001b[38;5;66;03m# List to store extracted fields\u001b[39;00m\n\u001b[1;32m     46\u001b[0m fields_list \u001b[38;5;241m=\u001b[39m []\n",
      "File \u001b[0;32m~/miniconda3/lib/python3.9/site-packages/dpkt/pcap.py:328\u001b[0m, in \u001b[0;36mReader.__init__\u001b[0;34m(self, fileobj)\u001b[0m\n\u001b[1;32m    325\u001b[0m     \u001b[38;5;28mself\u001b[39m\u001b[38;5;241m.\u001b[39m__fh \u001b[38;5;241m=\u001b[39m LEFileHdr(buf)\n\u001b[1;32m    327\u001b[0m \u001b[38;5;28;01mif\u001b[39;00m magic \u001b[38;5;129;01mnot\u001b[39;00m \u001b[38;5;129;01min\u001b[39;00m MAGIC_TO_PKT_HDR:\n\u001b[0;32m--> 328\u001b[0m     \u001b[38;5;28;01mraise\u001b[39;00m \u001b[38;5;167;01mValueError\u001b[39;00m(\u001b[38;5;124m'\u001b[39m\u001b[38;5;124minvalid tcpdump header\u001b[39m\u001b[38;5;124m'\u001b[39m)\n\u001b[1;32m    330\u001b[0m \u001b[38;5;28mself\u001b[39m\u001b[38;5;241m.\u001b[39m__ph \u001b[38;5;241m=\u001b[39m MAGIC_TO_PKT_HDR[magic]\n\u001b[1;32m    333\u001b[0m \u001b[38;5;28;01mif\u001b[39;00m \u001b[38;5;28mself\u001b[39m\u001b[38;5;241m.\u001b[39m__fh\u001b[38;5;241m.\u001b[39mlinktype \u001b[38;5;129;01min\u001b[39;00m dltoff:\n",
      "\u001b[0;31mValueError\u001b[0m: invalid tcpdump header"
     ]
    }
   ],
   "source": [
    "pcap_to_df(samplePCAP)"
   ]
  },
  {
   "cell_type": "code",
   "execution_count": 33,
   "metadata": {},
   "outputs": [
    {
     "name": "stdout",
     "output_type": "stream",
     "text": [
      "               Timestamp       Source IP  Destination IP  Length  Protocol  \\\n",
      "0   1709251267.970841000    34.68.160.32  177.136.80.216      60         6   \n",
      "1   1709251267.970859000  177.136.80.216    34.68.160.32      60         6   \n",
      "2   1709251268.107604000    34.68.160.32  177.136.80.216      52         6   \n",
      "3   1709251268.107801000    34.68.160.32  177.136.80.216     354         6   \n",
      "4   1709251268.107814000  177.136.80.216    34.68.160.32      52         6   \n",
      "5   1709251268.114273000  177.136.80.216    34.68.160.32    2868         6   \n",
      "6   1709251268.114287000  177.136.80.216    34.68.160.32    1779         6   \n",
      "7   1709251268.250929000    34.68.160.32  177.136.80.216      52         6   \n",
      "8   1709251268.251003000    34.68.160.32  177.136.80.216      52         6   \n",
      "9   1709251268.251730000    34.68.160.32  177.136.80.216     116         6   \n",
      "10  1709251268.251803000    34.68.160.32  177.136.80.216      76         6   \n",
      "11  1709251268.251834000  177.136.80.216    34.68.160.32      52         6   \n",
      "12  1709251268.251875000  177.136.80.216    34.68.160.32      76         6   \n",
      "13  1709251268.251912000  177.136.80.216    34.68.160.32      52         6   \n",
      "14  1709251268.251923000    34.68.160.32  177.136.80.216      52         6   \n",
      "15  1709251268.251934000  177.136.80.216    34.68.160.32      52         6   \n",
      "16  1709251268.388488000    34.68.160.32  177.136.80.216      40         6   \n",
      "17  1709251268.388488000    34.68.160.32  177.136.80.216      40         6   \n",
      "18  1709251268.388488000    34.68.160.32  177.136.80.216      40         6   \n",
      "\n",
      "    Source Port  Destination Port  Payload Length  Checksum  \n",
      "0         48274              3010               0     39715  \n",
      "1          3010             48274               0     50419  \n",
      "2         48274              3010               0     18282  \n",
      "3         48274              3010              28     17857  \n",
      "4          3010             48274               0     50411  \n",
      "5          3010             48274              28     53227  \n",
      "6          3010             48274              28     52138  \n",
      "7         48274              3010               0     14884  \n",
      "8         48274              3010               0     13169  \n",
      "9         48274              3010              28     42021  \n",
      "10        48274              3010              24     54193  \n",
      "11         3010             48274               0     50411  \n",
      "12         3010             48274              24     50435  \n",
      "13         3010             48274               0     50411  \n",
      "14        48274              3010               0     13063  \n",
      "15         3010             48274               0     50411  \n",
      "16        48274              3010               6     49745  \n",
      "17        48274              3010               6     49745  \n",
      "18        48274              3010               6     49744  \n"
     ]
    }
   ],
   "source": [
    "from scapy.all import rdpcap\n",
    "import pandas as pd\n",
    "\n",
    "def pcap_to_df(pcap_file):\n",
    "    # Read pcap file\n",
    "    packets = rdpcap(pcap_file)\n",
    "    \n",
    "    # Extract fields from each packet\n",
    "    fields_list = []\n",
    "    for pkt in packets:\n",
    "        if pkt.haslayer('IP'):\n",
    "            ip = pkt['IP']\n",
    "            if pkt.haslayer('UDP'):\n",
    "                udp = pkt['UDP']\n",
    "                fields_list.append([pkt.time, ip.src, ip.dst, ip.len, ip.proto, udp.sport, udp.dport, len(udp.payload), udp.chksum])\n",
    "            elif pkt.haslayer('TCP'):\n",
    "                tcp = pkt['TCP']\n",
    "                fields_list.append([pkt.time, ip.src, ip.dst, ip.len, ip.proto, tcp.sport, tcp.dport, len(tcp.payload), tcp.chksum])\n",
    "    \n",
    "    # Create DataFrame\n",
    "    df = pd.DataFrame(fields_list, columns=['Timestamp', 'Source IP', 'Destination IP', 'Length', 'Protocol', 'Source Port', 'Destination Port', 'Payload Length', 'Checksum'])\n",
    "    \n",
    "    return df\n",
    "\n",
    "# Path to the pcap file\n",
    "pcap_file_path = samplePCAP\n",
    "\n",
    "# Convert pcap to DataFrame\n",
    "df = pcap_to_df(pcap_file_path)\n",
    "print(df)\n"
   ]
  },
  {
   "cell_type": "code",
   "execution_count": null,
   "metadata": {},
   "outputs": [],
   "source": []
  },
  {
   "cell_type": "code",
   "execution_count": null,
   "metadata": {},
   "outputs": [],
   "source": []
  },
  {
   "cell_type": "code",
   "execution_count": null,
   "metadata": {},
   "outputs": [],
   "source": []
  },
  {
   "cell_type": "code",
   "execution_count": null,
   "metadata": {},
   "outputs": [],
   "source": []
  },
  {
   "cell_type": "code",
   "execution_count": null,
   "metadata": {},
   "outputs": [],
   "source": []
  },
  {
   "cell_type": "code",
   "execution_count": null,
   "metadata": {},
   "outputs": [],
   "source": []
  },
  {
   "cell_type": "code",
   "execution_count": null,
   "metadata": {},
   "outputs": [],
   "source": []
  },
  {
   "cell_type": "code",
   "execution_count": null,
   "metadata": {},
   "outputs": [],
   "source": []
  }
 ],
 "metadata": {
  "kernelspec": {
   "display_name": "Python 3 (ipykernel)",
   "language": "python",
   "name": "python3"
  },
  "language_info": {
   "codemirror_mode": {
    "name": "ipython",
    "version": 3
   },
   "file_extension": ".py",
   "mimetype": "text/x-python",
   "name": "python",
   "nbconvert_exporter": "python",
   "pygments_lexer": "ipython3",
   "version": "3.8.10"
  }
 },
 "nbformat": 4,
 "nbformat_minor": 4
}
